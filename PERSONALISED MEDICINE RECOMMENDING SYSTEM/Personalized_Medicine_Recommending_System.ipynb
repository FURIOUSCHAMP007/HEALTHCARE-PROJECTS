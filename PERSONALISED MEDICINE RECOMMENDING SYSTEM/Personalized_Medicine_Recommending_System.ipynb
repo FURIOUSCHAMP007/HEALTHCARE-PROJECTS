{
  "cells": [
    {
      "cell_type": "markdown",
      "id": "ec4a4f56",
      "metadata": {
        "id": "ec4a4f56"
      },
      "source": [
        "# Project Name: Personalized Medicine Recommending System\n",
        "\n"
      ]
    },
    {
      "cell_type": "markdown",
      "source": [
        "💊Personalized Medicine Recommending System🩺\n",
        "\n",
        "Description\n",
        "\n",
        "A Medicine Recommendation System is a Machine Learning model that can assist healthcare professionals in prescribing the right medication to patients based on their medical conditions, symptoms, allergies, and other relevant factors. It can help healthcare professionals in prescribing the right medication to their patients, reducing the risk of adverse effects and improving patient outcomes.\n",
        "\n",
        "Data Collection: Collect data on medications, medical conditions, symptoms, and allergies from various sources like medical journals, electronic health records, clinical trials, etc. Organize the data into a structured format that can be easily processed by the system.\n",
        "\n",
        "Data Pre-processing: Clean the data, remove duplicates, and perform data transformations like normalization, encoding, etc. Convert the data into a format suitable for machine learning algorithms.\n",
        "\n",
        "Feature Extraction: Extract relevant features from the data that can help the system in identifying the right medication for a patient. For example, medical conditions, symptoms, age, gender, weight, allergies, previous medical history, etc.\n",
        "\n",
        "Machine Learning Model Selection: Choose a suitable machine learning algorithm that can learn from the data and recommend the right medication. Popular algorithms include decision trees, random forests, support vector machines, and neural networks.\n",
        "\n",
        "Training the Model: Train the machine learning model on the pre-processed data. Evaluate the performance of the model using appropriate metrics like accuracy, precision, recall, and F1-score. Fine-tune the model by adjusting its hyperparameters to improve its performance."
      ],
      "metadata": {
        "id": "JRbplQIdf9XW"
      },
      "id": "JRbplQIdf9XW"
    },
    {
      "cell_type": "code",
      "execution_count": 1,
      "id": "ff1c65c6",
      "metadata": {
        "id": "ff1c65c6"
      },
      "outputs": [],
      "source": [
        "import numpy as np\n",
        "import pandas as pd\n",
        "from warnings import filterwarnings\n",
        "filterwarnings(\"ignore\")"
      ]
    },
    {
      "cell_type": "code",
      "execution_count": 2,
      "id": "7e7e7ffe",
      "metadata": {
        "id": "7e7e7ffe",
        "colab": {
          "base_uri": "https://localhost:8080/",
          "height": 287
        },
        "outputId": "5197beac-b5b4-435a-985d-802a8f556ca3"
      },
      "outputs": [
        {
          "output_type": "error",
          "ename": "FileNotFoundError",
          "evalue": "[Errno 2] No such file or directory: 'medicine.csv'",
          "traceback": [
            "\u001b[0;31m---------------------------------------------------------------------------\u001b[0m",
            "\u001b[0;31mFileNotFoundError\u001b[0m                         Traceback (most recent call last)",
            "\u001b[0;32m<ipython-input-2-9bf93c30453f>\u001b[0m in \u001b[0;36m<cell line: 1>\u001b[0;34m()\u001b[0m\n\u001b[0;32m----> 1\u001b[0;31m \u001b[0mdf\u001b[0m\u001b[0;34m=\u001b[0m\u001b[0mpd\u001b[0m\u001b[0;34m.\u001b[0m\u001b[0mread_csv\u001b[0m\u001b[0;34m(\u001b[0m\u001b[0;34m'medicine.csv'\u001b[0m\u001b[0;34m)\u001b[0m\u001b[0;34m\u001b[0m\u001b[0;34m\u001b[0m\u001b[0m\n\u001b[0m",
            "\u001b[0;32m/usr/local/lib/python3.10/dist-packages/pandas/io/parsers/readers.py\u001b[0m in \u001b[0;36mread_csv\u001b[0;34m(filepath_or_buffer, sep, delimiter, header, names, index_col, usecols, dtype, engine, converters, true_values, false_values, skipinitialspace, skiprows, skipfooter, nrows, na_values, keep_default_na, na_filter, verbose, skip_blank_lines, parse_dates, infer_datetime_format, keep_date_col, date_parser, date_format, dayfirst, cache_dates, iterator, chunksize, compression, thousands, decimal, lineterminator, quotechar, quoting, doublequote, escapechar, comment, encoding, encoding_errors, dialect, on_bad_lines, delim_whitespace, low_memory, memory_map, float_precision, storage_options, dtype_backend)\u001b[0m\n\u001b[1;32m    946\u001b[0m     \u001b[0mkwds\u001b[0m\u001b[0;34m.\u001b[0m\u001b[0mupdate\u001b[0m\u001b[0;34m(\u001b[0m\u001b[0mkwds_defaults\u001b[0m\u001b[0;34m)\u001b[0m\u001b[0;34m\u001b[0m\u001b[0;34m\u001b[0m\u001b[0m\n\u001b[1;32m    947\u001b[0m \u001b[0;34m\u001b[0m\u001b[0m\n\u001b[0;32m--> 948\u001b[0;31m     \u001b[0;32mreturn\u001b[0m \u001b[0m_read\u001b[0m\u001b[0;34m(\u001b[0m\u001b[0mfilepath_or_buffer\u001b[0m\u001b[0;34m,\u001b[0m \u001b[0mkwds\u001b[0m\u001b[0;34m)\u001b[0m\u001b[0;34m\u001b[0m\u001b[0;34m\u001b[0m\u001b[0m\n\u001b[0m\u001b[1;32m    949\u001b[0m \u001b[0;34m\u001b[0m\u001b[0m\n\u001b[1;32m    950\u001b[0m \u001b[0;34m\u001b[0m\u001b[0m\n",
            "\u001b[0;32m/usr/local/lib/python3.10/dist-packages/pandas/io/parsers/readers.py\u001b[0m in \u001b[0;36m_read\u001b[0;34m(filepath_or_buffer, kwds)\u001b[0m\n\u001b[1;32m    609\u001b[0m \u001b[0;34m\u001b[0m\u001b[0m\n\u001b[1;32m    610\u001b[0m     \u001b[0;31m# Create the parser.\u001b[0m\u001b[0;34m\u001b[0m\u001b[0;34m\u001b[0m\u001b[0m\n\u001b[0;32m--> 611\u001b[0;31m     \u001b[0mparser\u001b[0m \u001b[0;34m=\u001b[0m \u001b[0mTextFileReader\u001b[0m\u001b[0;34m(\u001b[0m\u001b[0mfilepath_or_buffer\u001b[0m\u001b[0;34m,\u001b[0m \u001b[0;34m**\u001b[0m\u001b[0mkwds\u001b[0m\u001b[0;34m)\u001b[0m\u001b[0;34m\u001b[0m\u001b[0;34m\u001b[0m\u001b[0m\n\u001b[0m\u001b[1;32m    612\u001b[0m \u001b[0;34m\u001b[0m\u001b[0m\n\u001b[1;32m    613\u001b[0m     \u001b[0;32mif\u001b[0m \u001b[0mchunksize\u001b[0m \u001b[0;32mor\u001b[0m \u001b[0miterator\u001b[0m\u001b[0;34m:\u001b[0m\u001b[0;34m\u001b[0m\u001b[0;34m\u001b[0m\u001b[0m\n",
            "\u001b[0;32m/usr/local/lib/python3.10/dist-packages/pandas/io/parsers/readers.py\u001b[0m in \u001b[0;36m__init__\u001b[0;34m(self, f, engine, **kwds)\u001b[0m\n\u001b[1;32m   1446\u001b[0m \u001b[0;34m\u001b[0m\u001b[0m\n\u001b[1;32m   1447\u001b[0m         \u001b[0mself\u001b[0m\u001b[0;34m.\u001b[0m\u001b[0mhandles\u001b[0m\u001b[0;34m:\u001b[0m \u001b[0mIOHandles\u001b[0m \u001b[0;34m|\u001b[0m \u001b[0;32mNone\u001b[0m \u001b[0;34m=\u001b[0m \u001b[0;32mNone\u001b[0m\u001b[0;34m\u001b[0m\u001b[0;34m\u001b[0m\u001b[0m\n\u001b[0;32m-> 1448\u001b[0;31m         \u001b[0mself\u001b[0m\u001b[0;34m.\u001b[0m\u001b[0m_engine\u001b[0m \u001b[0;34m=\u001b[0m \u001b[0mself\u001b[0m\u001b[0;34m.\u001b[0m\u001b[0m_make_engine\u001b[0m\u001b[0;34m(\u001b[0m\u001b[0mf\u001b[0m\u001b[0;34m,\u001b[0m \u001b[0mself\u001b[0m\u001b[0;34m.\u001b[0m\u001b[0mengine\u001b[0m\u001b[0;34m)\u001b[0m\u001b[0;34m\u001b[0m\u001b[0;34m\u001b[0m\u001b[0m\n\u001b[0m\u001b[1;32m   1449\u001b[0m \u001b[0;34m\u001b[0m\u001b[0m\n\u001b[1;32m   1450\u001b[0m     \u001b[0;32mdef\u001b[0m \u001b[0mclose\u001b[0m\u001b[0;34m(\u001b[0m\u001b[0mself\u001b[0m\u001b[0;34m)\u001b[0m \u001b[0;34m->\u001b[0m \u001b[0;32mNone\u001b[0m\u001b[0;34m:\u001b[0m\u001b[0;34m\u001b[0m\u001b[0;34m\u001b[0m\u001b[0m\n",
            "\u001b[0;32m/usr/local/lib/python3.10/dist-packages/pandas/io/parsers/readers.py\u001b[0m in \u001b[0;36m_make_engine\u001b[0;34m(self, f, engine)\u001b[0m\n\u001b[1;32m   1703\u001b[0m                 \u001b[0;32mif\u001b[0m \u001b[0;34m\"b\"\u001b[0m \u001b[0;32mnot\u001b[0m \u001b[0;32min\u001b[0m \u001b[0mmode\u001b[0m\u001b[0;34m:\u001b[0m\u001b[0;34m\u001b[0m\u001b[0;34m\u001b[0m\u001b[0m\n\u001b[1;32m   1704\u001b[0m                     \u001b[0mmode\u001b[0m \u001b[0;34m+=\u001b[0m \u001b[0;34m\"b\"\u001b[0m\u001b[0;34m\u001b[0m\u001b[0;34m\u001b[0m\u001b[0m\n\u001b[0;32m-> 1705\u001b[0;31m             self.handles = get_handle(\n\u001b[0m\u001b[1;32m   1706\u001b[0m                 \u001b[0mf\u001b[0m\u001b[0;34m,\u001b[0m\u001b[0;34m\u001b[0m\u001b[0;34m\u001b[0m\u001b[0m\n\u001b[1;32m   1707\u001b[0m                 \u001b[0mmode\u001b[0m\u001b[0;34m,\u001b[0m\u001b[0;34m\u001b[0m\u001b[0;34m\u001b[0m\u001b[0m\n",
            "\u001b[0;32m/usr/local/lib/python3.10/dist-packages/pandas/io/common.py\u001b[0m in \u001b[0;36mget_handle\u001b[0;34m(path_or_buf, mode, encoding, compression, memory_map, is_text, errors, storage_options)\u001b[0m\n\u001b[1;32m    861\u001b[0m         \u001b[0;32mif\u001b[0m \u001b[0mioargs\u001b[0m\u001b[0;34m.\u001b[0m\u001b[0mencoding\u001b[0m \u001b[0;32mand\u001b[0m \u001b[0;34m\"b\"\u001b[0m \u001b[0;32mnot\u001b[0m \u001b[0;32min\u001b[0m \u001b[0mioargs\u001b[0m\u001b[0;34m.\u001b[0m\u001b[0mmode\u001b[0m\u001b[0;34m:\u001b[0m\u001b[0;34m\u001b[0m\u001b[0;34m\u001b[0m\u001b[0m\n\u001b[1;32m    862\u001b[0m             \u001b[0;31m# Encoding\u001b[0m\u001b[0;34m\u001b[0m\u001b[0;34m\u001b[0m\u001b[0m\n\u001b[0;32m--> 863\u001b[0;31m             handle = open(\n\u001b[0m\u001b[1;32m    864\u001b[0m                 \u001b[0mhandle\u001b[0m\u001b[0;34m,\u001b[0m\u001b[0;34m\u001b[0m\u001b[0;34m\u001b[0m\u001b[0m\n\u001b[1;32m    865\u001b[0m                 \u001b[0mioargs\u001b[0m\u001b[0;34m.\u001b[0m\u001b[0mmode\u001b[0m\u001b[0;34m,\u001b[0m\u001b[0;34m\u001b[0m\u001b[0;34m\u001b[0m\u001b[0m\n",
            "\u001b[0;31mFileNotFoundError\u001b[0m: [Errno 2] No such file or directory: 'medicine.csv'"
          ]
        }
      ],
      "source": [
        "df=pd.read_csv('medicine.csv')"
      ]
    },
    {
      "cell_type": "code",
      "execution_count": null,
      "id": "e0c38123",
      "metadata": {
        "id": "e0c38123"
      },
      "outputs": [],
      "source": [
        "df.head()"
      ]
    },
    {
      "cell_type": "code",
      "execution_count": null,
      "id": "7b293607",
      "metadata": {
        "id": "7b293607"
      },
      "outputs": [],
      "source": [
        "df.shape"
      ]
    },
    {
      "cell_type": "code",
      "execution_count": null,
      "id": "3b34ec17",
      "metadata": {
        "id": "3b34ec17"
      },
      "outputs": [],
      "source": [
        "df.isnull().sum()"
      ]
    },
    {
      "cell_type": "code",
      "execution_count": null,
      "id": "751166a6",
      "metadata": {
        "id": "751166a6"
      },
      "outputs": [],
      "source": [
        "df.dropna(inplace=True)"
      ]
    },
    {
      "cell_type": "code",
      "execution_count": null,
      "id": "a723bb19",
      "metadata": {
        "id": "a723bb19"
      },
      "outputs": [],
      "source": [
        "df.duplicated().sum()"
      ]
    },
    {
      "cell_type": "code",
      "execution_count": null,
      "id": "29539cf2",
      "metadata": {
        "id": "29539cf2"
      },
      "outputs": [],
      "source": [
        "df['Description']"
      ]
    },
    {
      "cell_type": "code",
      "execution_count": null,
      "id": "1c486fdd",
      "metadata": {
        "id": "1c486fdd"
      },
      "outputs": [],
      "source": [
        "df['Description'].apply(lambda x:x.split())"
      ]
    },
    {
      "cell_type": "code",
      "execution_count": null,
      "id": "2c257399",
      "metadata": {
        "id": "2c257399"
      },
      "outputs": [],
      "source": [
        "df['Reason'] = df['Reason'].apply(lambda x:x.split())\n",
        "df['Description'] = df['Description'].apply(lambda x:x.split())"
      ]
    },
    {
      "cell_type": "code",
      "execution_count": null,
      "id": "c2b1c03f",
      "metadata": {
        "id": "c2b1c03f"
      },
      "outputs": [],
      "source": [
        "df['Description'] = df['Description'].apply(lambda x:[i.replace(\" \",\"\") for i in x])"
      ]
    },
    {
      "cell_type": "code",
      "execution_count": null,
      "id": "f8aae734",
      "metadata": {
        "id": "f8aae734"
      },
      "outputs": [],
      "source": [
        "df['tags'] = df['Description'] + df['Reason']"
      ]
    },
    {
      "cell_type": "code",
      "execution_count": null,
      "id": "86efcf04",
      "metadata": {
        "id": "86efcf04"
      },
      "outputs": [],
      "source": [
        "new_df = df[['index','Drug_Name','tags']]"
      ]
    },
    {
      "cell_type": "code",
      "execution_count": null,
      "id": "e1ff1a70",
      "metadata": {
        "id": "e1ff1a70"
      },
      "outputs": [],
      "source": [
        "new_df"
      ]
    },
    {
      "cell_type": "code",
      "execution_count": null,
      "id": "8fa3cd4b",
      "metadata": {
        "id": "8fa3cd4b"
      },
      "outputs": [],
      "source": [
        "new_df['tags'].apply(lambda x:\" \".join(x))"
      ]
    },
    {
      "cell_type": "code",
      "execution_count": null,
      "id": "7687aff7",
      "metadata": {
        "id": "7687aff7"
      },
      "outputs": [],
      "source": [
        "new_df"
      ]
    },
    {
      "cell_type": "code",
      "execution_count": null,
      "id": "a693994e",
      "metadata": {
        "id": "a693994e"
      },
      "outputs": [],
      "source": [
        "new_df['tags'] = new_df['tags'].apply(lambda x:\" \".join(x))"
      ]
    },
    {
      "cell_type": "code",
      "execution_count": null,
      "id": "9974f5ea",
      "metadata": {
        "id": "9974f5ea"
      },
      "outputs": [],
      "source": [
        "new_df"
      ]
    },
    {
      "cell_type": "code",
      "execution_count": null,
      "id": "99d8d3cc",
      "metadata": {
        "id": "99d8d3cc"
      },
      "outputs": [],
      "source": [
        "new_df['tags'] = new_df['tags'].apply(lambda x:x.lower())"
      ]
    },
    {
      "cell_type": "code",
      "execution_count": null,
      "id": "7b2bb9a9",
      "metadata": {
        "id": "7b2bb9a9"
      },
      "outputs": [],
      "source": [
        "new_df"
      ]
    },
    {
      "cell_type": "code",
      "execution_count": null,
      "id": "3b1fea05",
      "metadata": {
        "id": "3b1fea05"
      },
      "outputs": [],
      "source": [
        "import nltk"
      ]
    },
    {
      "cell_type": "code",
      "execution_count": null,
      "id": "03e300a2",
      "metadata": {
        "id": "03e300a2"
      },
      "outputs": [],
      "source": [
        "from nltk.stem.porter import PorterStemmer\n",
        "ps = PorterStemmer()"
      ]
    },
    {
      "cell_type": "code",
      "execution_count": null,
      "id": "fc5782e3",
      "metadata": {
        "id": "fc5782e3"
      },
      "outputs": [],
      "source": [
        "from sklearn.feature_extraction.text import CountVectorizer\n",
        "cv = CountVectorizer(stop_words='english',max_features=5000)"
      ]
    },
    {
      "cell_type": "code",
      "execution_count": null,
      "id": "535a70f0",
      "metadata": {
        "id": "535a70f0"
      },
      "outputs": [],
      "source": [
        "def stem(text):\n",
        "  y = []\n",
        "\n",
        "  for i in text.split():\n",
        "    y.append(ps.stem(i))\n",
        "\n",
        "  return \" \".join(y)"
      ]
    },
    {
      "cell_type": "code",
      "execution_count": null,
      "id": "1711dd0c",
      "metadata": {
        "id": "1711dd0c"
      },
      "outputs": [],
      "source": [
        "new_df['tags'] = new_df['tags'].apply(stem)"
      ]
    },
    {
      "cell_type": "code",
      "execution_count": null,
      "id": "1307d95c",
      "metadata": {
        "id": "1307d95c"
      },
      "outputs": [],
      "source": [
        "cv.fit_transform(new_df['tags']).toarray().shape"
      ]
    },
    {
      "cell_type": "code",
      "execution_count": null,
      "id": "ae30a987",
      "metadata": {
        "id": "ae30a987"
      },
      "outputs": [],
      "source": [
        "vectors = cv.fit_transform(new_df['tags']).toarray()"
      ]
    },
    {
      "cell_type": "code",
      "execution_count": null,
      "id": "2d5b1d4d",
      "metadata": {
        "id": "2d5b1d4d"
      },
      "outputs": [],
      "source": [
        "cv.get_feature_names_out()"
      ]
    },
    {
      "cell_type": "code",
      "execution_count": null,
      "id": "0ec78fc1",
      "metadata": {
        "id": "0ec78fc1"
      },
      "outputs": [],
      "source": [
        "from sklearn.metrics.pairwise import cosine_similarity"
      ]
    },
    {
      "cell_type": "code",
      "execution_count": null,
      "id": "b34a9d36",
      "metadata": {
        "id": "b34a9d36"
      },
      "outputs": [],
      "source": [
        "cosine_similarity(vectors)"
      ]
    },
    {
      "cell_type": "code",
      "execution_count": null,
      "id": "b5e7a4b1",
      "metadata": {
        "id": "b5e7a4b1"
      },
      "outputs": [],
      "source": [
        "similarity = cosine_similarity(vectors)"
      ]
    },
    {
      "cell_type": "code",
      "execution_count": null,
      "id": "6498e957",
      "metadata": {
        "id": "6498e957"
      },
      "outputs": [],
      "source": [
        "similarity[1]"
      ]
    },
    {
      "cell_type": "code",
      "execution_count": null,
      "id": "9d5cc035",
      "metadata": {
        "id": "9d5cc035"
      },
      "outputs": [],
      "source": [
        "def recommend(medicine):\n",
        "    medicine_index = new_df[new_df['Drug_Name'] == medicine].index[0]\n",
        "    distances = similarity[medicine_index]\n",
        "    medicines_list = sorted(list(enumerate(distances)),reverse=True,key=lambda x:x[1])[1:6]\n",
        "\n",
        "    for i in medicines_list:\n",
        "        print(new_df.iloc[i[0]].Drug_Name)"
      ]
    },
    {
      "cell_type": "code",
      "execution_count": null,
      "id": "93841331",
      "metadata": {
        "id": "93841331"
      },
      "outputs": [],
      "source": [
        "recommend(\"Paracetamol 125mg Syrup 60mlParacetamol 500mg Tablet 10'S\")"
      ]
    },
    {
      "cell_type": "code",
      "execution_count": null,
      "id": "35e6cbad",
      "metadata": {
        "id": "35e6cbad"
      },
      "outputs": [],
      "source": [
        "import pickle"
      ]
    },
    {
      "cell_type": "code",
      "execution_count": null,
      "id": "19050369",
      "metadata": {
        "id": "19050369"
      },
      "outputs": [],
      "source": [
        "pickle.dump(new_df.to_dict(),open('medicine_dict.pkl','wb'))\n",
        "pickle.dump(similarity,open('similarity.pkl','wb'))"
      ]
    },
    {
      "cell_type": "code",
      "execution_count": null,
      "id": "cae90b10",
      "metadata": {
        "id": "cae90b10"
      },
      "outputs": [],
      "source": []
    }
  ],
  "metadata": {
    "kernelspec": {
      "display_name": "Python 3 (ipykernel)",
      "language": "python",
      "name": "python3"
    },
    "language_info": {
      "codemirror_mode": {
        "name": "ipython",
        "version": 3
      },
      "file_extension": ".py",
      "mimetype": "text/x-python",
      "name": "python",
      "nbconvert_exporter": "python",
      "pygments_lexer": "ipython3",
      "version": "3.9.12"
    },
    "colab": {
      "provenance": []
    }
  },
  "nbformat": 4,
  "nbformat_minor": 5
}